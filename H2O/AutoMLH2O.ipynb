{
  "nbformat": 4,
  "nbformat_minor": 0,
  "metadata": {
    "colab": {
      "name": "AutoMLH2O.ipynb",
      "version": "0.3.2",
      "provenance": [],
      "include_colab_link": true
    },
    "kernelspec": {
      "name": "python3",
      "display_name": "Python 3"
    },
    "accelerator": "TPU"
  },
  "cells": [
    {
      "cell_type": "markdown",
      "metadata": {
        "id": "view-in-github",
        "colab_type": "text"
      },
      "source": [
        "<a href=\"https://colab.research.google.com/github/maharshijha/AutoML/blob/master/H2O/AutoMLH2O.ipynb\" target=\"_parent\"><img src=\"https://colab.research.google.com/assets/colab-badge.svg\" alt=\"Open In Colab\"/></a>"
      ]
    },
    {
      "cell_type": "code",
      "metadata": {
        "id": "W7vMLrU7f0S0",
        "colab_type": "code",
        "colab": {
          "base_uri": "https://localhost:8080/",
          "height": 394
        },
        "outputId": "53a21ac0-582c-4a78-d479-8fbb80a0a2ce"
      },
      "source": [
        "!pip install -f http://h2o-release.s3.amazonaws.com/h2o/latest_stable_Py.html h2o "
      ],
      "execution_count": 4,
      "outputs": [
        {
          "output_type": "stream",
          "text": [
            "Looking in links: http://h2o-release.s3.amazonaws.com/h2o/latest_stable_Py.html\n",
            "Collecting h2o\n",
            "\u001b[33m  WARNING: The repository located at h2o-release.s3.amazonaws.com is not a trusted or secure host and is being ignored. If this repository is available via HTTPS we recommend you use HTTPS instead, otherwise you may silence this warning and allow it anyway with '--trusted-host h2o-release.s3.amazonaws.com'.\u001b[0m\n",
            "\u001b[?25l  Downloading https://files.pythonhosted.org/packages/ab/ad/471e35326428e62fd92997a3036bba277d22c849f17ee0c5cdf1fcd899ed/h2o-3.26.0.1.tar.gz (122.6MB)\n",
            "\u001b[K     |████████████████████████████████| 122.6MB 179kB/s \n",
            "\u001b[?25hRequirement already satisfied: requests in /usr/local/lib/python3.6/dist-packages (from h2o) (2.21.0)\n",
            "Requirement already satisfied: tabulate in /usr/local/lib/python3.6/dist-packages (from h2o) (0.8.3)\n",
            "Requirement already satisfied: future in /usr/local/lib/python3.6/dist-packages (from h2o) (0.16.0)\n",
            "Collecting colorama>=0.3.8 (from h2o)\n",
            "\u001b[33m  WARNING: The repository located at h2o-release.s3.amazonaws.com is not a trusted or secure host and is being ignored. If this repository is available via HTTPS we recommend you use HTTPS instead, otherwise you may silence this warning and allow it anyway with '--trusted-host h2o-release.s3.amazonaws.com'.\u001b[0m\n",
            "  Downloading https://files.pythonhosted.org/packages/4f/a6/728666f39bfff1719fc94c481890b2106837da9318031f71a8424b662e12/colorama-0.4.1-py2.py3-none-any.whl\n",
            "Requirement already satisfied: certifi>=2017.4.17 in /usr/local/lib/python3.6/dist-packages (from requests->h2o) (2019.6.16)\n",
            "Requirement already satisfied: chardet<3.1.0,>=3.0.2 in /usr/local/lib/python3.6/dist-packages (from requests->h2o) (3.0.4)\n",
            "Requirement already satisfied: urllib3<1.25,>=1.21.1 in /usr/local/lib/python3.6/dist-packages (from requests->h2o) (1.24.3)\n",
            "Requirement already satisfied: idna<2.9,>=2.5 in /usr/local/lib/python3.6/dist-packages (from requests->h2o) (2.8)\n",
            "Building wheels for collected packages: h2o\n",
            "  Building wheel for h2o (setup.py) ... \u001b[?25l\u001b[?25hdone\n",
            "  Stored in directory: /root/.cache/pip/wheels/b9/4e/5a/a9ceca2e02e26efba8fe4e50ac397e3c14e9f192593a606a04\n",
            "Successfully built h2o\n",
            "Installing collected packages: colorama, h2o\n",
            "Successfully installed colorama-0.4.1 h2o-3.26.0.1\n"
          ],
          "name": "stdout"
        }
      ]
    },
    {
      "cell_type": "code",
      "metadata": {
        "id": "u9TLB9p6gZmC",
        "colab_type": "code",
        "colab": {
          "resources": {
            "http://localhost:8080/nbextensions/google.colab/files.js": {
              "data": "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",
              "ok": true,
              "headers": [
                [
                  "content-type",
                  "application/javascript"
                ]
              ],
              "status": 200,
              "status_text": ""
            }
          },
          "base_uri": "https://localhost:8080/",
          "height": 71
        },
        "outputId": "b3ba2cda-7370-4152-a968-54053044aeac"
      },
      "source": [
        "from google.colab import files\n",
        "import io\n",
        "uploaded = files.upload()\n",
        "\n",
        "\n"
      ],
      "execution_count": 2,
      "outputs": [
        {
          "output_type": "display_data",
          "data": {
            "text/html": [
              "\n",
              "     <input type=\"file\" id=\"files-c4567884-2e02-47a5-9556-205dde83f435\" name=\"files[]\" multiple disabled />\n",
              "     <output id=\"result-c4567884-2e02-47a5-9556-205dde83f435\">\n",
              "      Upload widget is only available when the cell has been executed in the\n",
              "      current browser session. Please rerun this cell to enable.\n",
              "      </output>\n",
              "      <script src=\"/nbextensions/google.colab/files.js\"></script> "
            ],
            "text/plain": [
              "<IPython.core.display.HTML object>"
            ]
          },
          "metadata": {
            "tags": []
          }
        },
        {
          "output_type": "stream",
          "text": [
            "Saving train_values_excel.csv to train_values_excel.csv\n"
          ],
          "name": "stdout"
        }
      ]
    },
    {
      "cell_type": "code",
      "metadata": {
        "id": "H-u-pgKzzsMR",
        "colab_type": "code",
        "colab": {
          "resources": {
            "http://localhost:8080/nbextensions/google.colab/files.js": {
              "data": "Ly8gQ29weXJpZ2h0IDIwMTcgR29vZ2xlIExMQwovLwovLyBMaWNlbnNlZCB1bmRlciB0aGUgQXBhY2hlIExpY2Vuc2UsIFZlcnNpb24gMi4wICh0aGUgIkxpY2Vuc2UiKTsKLy8geW91IG1heSBub3QgdXNlIHRoaXMgZmlsZSBleGNlcHQgaW4gY29tcGxpYW5jZSB3aXRoIHRoZSBMaWNlbnNlLgovLyBZb3UgbWF5IG9idGFpbiBhIGNvcHkgb2YgdGhlIExpY2Vuc2UgYXQKLy8KLy8gICAgICBodHRwOi8vd3d3LmFwYWNoZS5vcmcvbGljZW5zZXMvTElDRU5TRS0yLjAKLy8KLy8gVW5sZXNzIHJlcXVpcmVkIGJ5IGFwcGxpY2FibGUgbGF3IG9yIGFncmVlZCB0byBpbiB3cml0aW5nLCBzb2Z0d2FyZQovLyBkaXN0cmlidXRlZCB1bmRlciB0aGUgTGljZW5zZSBpcyBkaXN0cmlidXRlZCBvbiBhbiAiQVMgSVMiIEJBU0lTLAovLyBXSVRIT1VUIFdBUlJBTlRJRVMgT1IgQ09ORElUSU9OUyBPRiBBTlkgS0lORCwgZWl0aGVyIGV4cHJlc3Mgb3IgaW1wbGllZC4KLy8gU2VlIHRoZSBMaWNlbnNlIGZvciB0aGUgc3BlY2lmaWMgbGFuZ3VhZ2UgZ292ZXJuaW5nIHBlcm1pc3Npb25zIGFuZAovLyBsaW1pdGF0aW9ucyB1bmRlciB0aGUgTGljZW5zZS4KCi8qKgogKiBAZmlsZW92ZXJ2aWV3IEhlbHBlcnMgZm9yIGdvb2dsZS5jb2xhYiBQeXRob24gbW9kdWxlLgogKi8KKGZ1bmN0aW9uKHNjb3BlKSB7CmZ1bmN0aW9uIHNwYW4odGV4dCwgc3R5bGVBdHRyaWJ1dGVzID0ge30pIHsKICBjb25zdCBlbGVtZW50ID0gZG9jdW1lbnQuY3JlYXRlRWxlbWVudCgnc3BhbicpOwogIGVsZW1lbnQudGV4dENvbnRlbnQgPSB0ZXh0OwogIGZvciAoY29uc3Qga2V5IG9mIE9iamVjdC5rZXlzKHN0eWxlQXR0cmlidXRlcykpIHsKICAgIGVsZW1lbnQuc3R5bGVba2V5XSA9IHN0eWxlQXR0cmlidXRlc1trZXldOwogIH0KICByZXR1cm4gZWxlbWVudDsKfQoKLy8gTWF4IG51bWJlciBvZiBieXRlcyB3aGljaCB3aWxsIGJlIHVwbG9hZGVkIGF0IGEgdGltZS4KY29uc3QgTUFYX1BBWUxPQURfU0laRSA9IDEwMCAqIDEwMjQ7Ci8vIE1heCBhbW91bnQgb2YgdGltZSB0byBibG9jayB3YWl0aW5nIGZvciB0aGUgdXNlci4KY29uc3QgRklMRV9DSEFOR0VfVElNRU9VVF9NUyA9IDMwICogMTAwMDsKCmZ1bmN0aW9uIF91cGxvYWRGaWxlcyhpbnB1dElkLCBvdXRwdXRJZCkgewogIGNvbnN0IHN0ZXBzID0gdXBsb2FkRmlsZXNTdGVwKGlucHV0SWQsIG91dHB1dElkKTsKICBjb25zdCBvdXRwdXRFbGVtZW50ID0gZG9jdW1lbnQuZ2V0RWxlbWVudEJ5SWQob3V0cHV0SWQpOwogIC8vIENhY2hlIHN0ZXBzIG9uIHRoZSBvdXRwdXRFbGVtZW50IHRvIG1ha2UgaXQgYXZhaWxhYmxlIGZvciB0aGUgbmV4dCBjYWxsCiAgLy8gdG8gdXBsb2FkRmlsZXNDb250aW51ZSBmcm9tIFB5dGhvbi4KICBvdXRwdXRFbGVtZW50LnN0ZXBzID0gc3RlcHM7CgogIHJldHVybiBfdXBsb2FkRmlsZXNDb250aW51ZShvdXRwdXRJZCk7Cn0KCi8vIFRoaXMgaXMgcm91Z2hseSBhbiBhc3luYyBnZW5lcmF0b3IgKG5vdCBzdXBwb3J0ZWQgaW4gdGhlIGJyb3dzZXIgeWV0KSwKLy8gd2hlcmUgdGhlcmUgYXJlIG11bHRpcGxlIGFzeW5jaHJvbm91cyBzdGVwcyBhbmQgdGhlIFB5dGhvbiBzaWRlIGlzIGdvaW5nCi8vIHRvIHBvbGwgZm9yIGNvbXBsZXRpb24gb2YgZWFjaCBzdGVwLgovLyBUaGlzIHVzZXMgYSBQcm9taXNlIHRvIGJsb2NrIHRoZSBweXRob24gc2lkZSBvbiBjb21wbGV0aW9uIG9mIGVhY2ggc3RlcCwKLy8gdGhlbiBwYXNzZXMgdGhlIHJlc3VsdCBvZiB0aGUgcHJldmlvdXMgc3RlcCBhcyB0aGUgaW5wdXQgdG8gdGhlIG5leHQgc3RlcC4KZnVuY3Rpb24gX3VwbG9hZEZpbGVzQ29udGludWUob3V0cHV0SWQpIHsKICBjb25zdCBvdXRwdXRFbGVtZW50ID0gZG9jdW1lbnQuZ2V0RWxlbWVudEJ5SWQob3V0cHV0SWQpOwogIGNvbnN0IHN0ZXBzID0gb3V0cHV0RWxlbWVudC5zdGVwczsKCiAgY29uc3QgbmV4dCA9IHN0ZXBzLm5leHQob3V0cHV0RWxlbWVudC5sYXN0UHJvbWlzZVZhbHVlKTsKICByZXR1cm4gUHJvbWlzZS5yZXNvbHZlKG5leHQudmFsdWUucHJvbWlzZSkudGhlbigodmFsdWUpID0+IHsKICAgIC8vIENhY2hlIHRoZSBsYXN0IHByb21pc2UgdmFsdWUgdG8gbWFrZSBpdCBhdmFpbGFibGUgdG8gdGhlIG5leHQKICAgIC8vIHN0ZXAgb2YgdGhlIGdlbmVyYXRvci4KICAgIG91dHB1dEVsZW1lbnQubGFzdFByb21pc2VWYWx1ZSA9IHZhbHVlOwogICAgcmV0dXJuIG5leHQudmFsdWUucmVzcG9uc2U7CiAgfSk7Cn0KCi8qKgogKiBHZW5lcmF0b3IgZnVuY3Rpb24gd2hpY2ggaXMgY2FsbGVkIGJldHdlZW4gZWFjaCBhc3luYyBzdGVwIG9mIHRoZSB1cGxvYWQKICogcHJvY2Vzcy4KICogQHBhcmFtIHtzdHJpbmd9IGlucHV0SWQgRWxlbWVudCBJRCBvZiB0aGUgaW5wdXQgZmlsZSBwaWNrZXIgZWxlbWVudC4KICogQHBhcmFtIHtzdHJpbmd9IG91dHB1dElkIEVsZW1lbnQgSUQgb2YgdGhlIG91dHB1dCBkaXNwbGF5LgogKiBAcmV0dXJuIHshSXRlcmFibGU8IU9iamVjdD59IEl0ZXJhYmxlIG9mIG5leHQgc3RlcHMuCiAqLwpmdW5jdGlvbiogdXBsb2FkRmlsZXNTdGVwKGlucHV0SWQsIG91dHB1dElkKSB7CiAgY29uc3QgaW5wdXRFbGVtZW50ID0gZG9jdW1lbnQuZ2V0RWxlbWVudEJ5SWQoaW5wdXRJZCk7CiAgaW5wdXRFbGVtZW50LmRpc2FibGVkID0gZmFsc2U7CgogIGNvbnN0IG91dHB1dEVsZW1lbnQgPSBkb2N1bWVudC5nZXRFbGVtZW50QnlJZChvdXRwdXRJZCk7CiAgb3V0cHV0RWxlbWVudC5pbm5lckhUTUwgPSAnJzsKCiAgY29uc3QgcGlja2VkUHJvbWlzZSA9IG5ldyBQcm9taXNlKChyZXNvbHZlKSA9PiB7CiAgICBpbnB1dEVsZW1lbnQuYWRkRXZlbnRMaXN0ZW5lcignY2hhbmdlJywgKGUpID0+IHsKICAgICAgcmVzb2x2ZShlLnRhcmdldC5maWxlcyk7CiAgICB9KTsKICB9KTsKCiAgY29uc3QgY2FuY2VsID0gZG9jdW1lbnQuY3JlYXRlRWxlbWVudCgnYnV0dG9uJyk7CiAgaW5wdXRFbGVtZW50LnBhcmVudEVsZW1lbnQuYXBwZW5kQ2hpbGQoY2FuY2VsKTsKICBjYW5jZWwudGV4dENvbnRlbnQgPSAnQ2FuY2VsIHVwbG9hZCc7CiAgY29uc3QgY2FuY2VsUHJvbWlzZSA9IG5ldyBQcm9taXNlKChyZXNvbHZlKSA9PiB7CiAgICBjYW5jZWwub25jbGljayA9ICgpID0+IHsKICAgICAgcmVzb2x2ZShudWxsKTsKICAgIH07CiAgfSk7CgogIC8vIENhbmNlbCB1cGxvYWQgaWYgdXNlciBoYXNuJ3QgcGlja2VkIGFueXRoaW5nIGluIHRpbWVvdXQuCiAgY29uc3QgdGltZW91dFByb21pc2UgPSBuZXcgUHJvbWlzZSgocmVzb2x2ZSkgPT4gewogICAgc2V0VGltZW91dCgoKSA9PiB7CiAgICAgIHJlc29sdmUobnVsbCk7CiAgICB9LCBGSUxFX0NIQU5HRV9USU1FT1VUX01TKTsKICB9KTsKCiAgLy8gV2FpdCBmb3IgdGhlIHVzZXIgdG8gcGljayB0aGUgZmlsZXMuCiAgY29uc3QgZmlsZXMgPSB5aWVsZCB7CiAgICBwcm9taXNlOiBQcm9taXNlLnJhY2UoW3BpY2tlZFByb21pc2UsIHRpbWVvdXRQcm9taXNlLCBjYW5jZWxQcm9taXNlXSksCiAgICByZXNwb25zZTogewogICAgICBhY3Rpb246ICdzdGFydGluZycsCiAgICB9CiAgfTsKCiAgaWYgKCFmaWxlcykgewogICAgcmV0dXJuIHsKICAgICAgcmVzcG9uc2U6IHsKICAgICAgICBhY3Rpb246ICdjb21wbGV0ZScsCiAgICAgIH0KICAgIH07CiAgfQoKICBjYW5jZWwucmVtb3ZlKCk7CgogIC8vIERpc2FibGUgdGhlIGlucHV0IGVsZW1lbnQgc2luY2UgZnVydGhlciBwaWNrcyBhcmUgbm90IGFsbG93ZWQuCiAgaW5wdXRFbGVtZW50LmRpc2FibGVkID0gdHJ1ZTsKCiAgZm9yIChjb25zdCBmaWxlIG9mIGZpbGVzKSB7CiAgICBjb25zdCBsaSA9IGRvY3VtZW50LmNyZWF0ZUVsZW1lbnQoJ2xpJyk7CiAgICBsaS5hcHBlbmQoc3BhbihmaWxlLm5hbWUsIHtmb250V2VpZ2h0OiAnYm9sZCd9KSk7CiAgICBsaS5hcHBlbmQoc3BhbigKICAgICAgICBgKCR7ZmlsZS50eXBlIHx8ICduL2EnfSkgLSAke2ZpbGUuc2l6ZX0gYnl0ZXMsIGAgKwogICAgICAgIGBsYXN0IG1vZGlmaWVkOiAkewogICAgICAgICAgICBmaWxlLmxhc3RNb2RpZmllZERhdGUgPyBmaWxlLmxhc3RNb2RpZmllZERhdGUudG9Mb2NhbGVEYXRlU3RyaW5nKCkgOgogICAgICAgICAgICAgICAgICAgICAgICAgICAgICAgICAgICAnbi9hJ30gLSBgKSk7CiAgICBjb25zdCBwZXJjZW50ID0gc3BhbignMCUgZG9uZScpOwogICAgbGkuYXBwZW5kQ2hpbGQocGVyY2VudCk7CgogICAgb3V0cHV0RWxlbWVudC5hcHBlbmRDaGlsZChsaSk7CgogICAgY29uc3QgZmlsZURhdGFQcm9taXNlID0gbmV3IFByb21pc2UoKHJlc29sdmUpID0+IHsKICAgICAgY29uc3QgcmVhZGVyID0gbmV3IEZpbGVSZWFkZXIoKTsKICAgICAgcmVhZGVyLm9ubG9hZCA9IChlKSA9PiB7CiAgICAgICAgcmVzb2x2ZShlLnRhcmdldC5yZXN1bHQpOwogICAgICB9OwogICAgICByZWFkZXIucmVhZEFzQXJyYXlCdWZmZXIoZmlsZSk7CiAgICB9KTsKICAgIC8vIFdhaXQgZm9yIHRoZSBkYXRhIHRvIGJlIHJlYWR5LgogICAgbGV0IGZpbGVEYXRhID0geWllbGQgewogICAgICBwcm9taXNlOiBmaWxlRGF0YVByb21pc2UsCiAgICAgIHJlc3BvbnNlOiB7CiAgICAgICAgYWN0aW9uOiAnY29udGludWUnLAogICAgICB9CiAgICB9OwoKICAgIC8vIFVzZSBhIGNodW5rZWQgc2VuZGluZyB0byBhdm9pZCBtZXNzYWdlIHNpemUgbGltaXRzLiBTZWUgYi82MjExNTY2MC4KICAgIGxldCBwb3NpdGlvbiA9IDA7CiAgICB3aGlsZSAocG9zaXRpb24gPCBmaWxlRGF0YS5ieXRlTGVuZ3RoKSB7CiAgICAgIGNvbnN0IGxlbmd0aCA9IE1hdGgubWluKGZpbGVEYXRhLmJ5dGVMZW5ndGggLSBwb3NpdGlvbiwgTUFYX1BBWUxPQURfU0laRSk7CiAgICAgIGNvbnN0IGNodW5rID0gbmV3IFVpbnQ4QXJyYXkoZmlsZURhdGEsIHBvc2l0aW9uLCBsZW5ndGgpOwogICAgICBwb3NpdGlvbiArPSBsZW5ndGg7CgogICAgICBjb25zdCBiYXNlNjQgPSBidG9hKFN0cmluZy5mcm9tQ2hhckNvZGUuYXBwbHkobnVsbCwgY2h1bmspKTsKICAgICAgeWllbGQgewogICAgICAgIHJlc3BvbnNlOiB7CiAgICAgICAgICBhY3Rpb246ICdhcHBlbmQnLAogICAgICAgICAgZmlsZTogZmlsZS5uYW1lLAogICAgICAgICAgZGF0YTogYmFzZTY0LAogICAgICAgIH0sCiAgICAgIH07CiAgICAgIHBlcmNlbnQudGV4dENvbnRlbnQgPQogICAgICAgICAgYCR7TWF0aC5yb3VuZCgocG9zaXRpb24gLyBmaWxlRGF0YS5ieXRlTGVuZ3RoKSAqIDEwMCl9JSBkb25lYDsKICAgIH0KICB9CgogIC8vIEFsbCBkb25lLgogIHlpZWxkIHsKICAgIHJlc3BvbnNlOiB7CiAgICAgIGFjdGlvbjogJ2NvbXBsZXRlJywKICAgIH0KICB9Owp9CgpzY29wZS5nb29nbGUgPSBzY29wZS5nb29nbGUgfHwge307CnNjb3BlLmdvb2dsZS5jb2xhYiA9IHNjb3BlLmdvb2dsZS5jb2xhYiB8fCB7fTsKc2NvcGUuZ29vZ2xlLmNvbGFiLl9maWxlcyA9IHsKICBfdXBsb2FkRmlsZXMsCiAgX3VwbG9hZEZpbGVzQ29udGludWUsCn07Cn0pKHNlbGYpOwo=",
              "ok": true,
              "headers": [
                [
                  "content-type",
                  "application/javascript"
                ]
              ],
              "status": 200,
              "status_text": ""
            }
          },
          "base_uri": "https://localhost:8080/",
          "height": 71
        },
        "outputId": "d6b24d47-77f8-4cfd-d371-995efd44c0e0"
      },
      "source": [
        "uploaded_test = files.upload()"
      ],
      "execution_count": 3,
      "outputs": [
        {
          "output_type": "display_data",
          "data": {
            "text/html": [
              "\n",
              "     <input type=\"file\" id=\"files-106e1371-bdf1-494b-9e42-244c61ed6a19\" name=\"files[]\" multiple disabled />\n",
              "     <output id=\"result-106e1371-bdf1-494b-9e42-244c61ed6a19\">\n",
              "      Upload widget is only available when the cell has been executed in the\n",
              "      current browser session. Please rerun this cell to enable.\n",
              "      </output>\n",
              "      <script src=\"/nbextensions/google.colab/files.js\"></script> "
            ],
            "text/plain": [
              "<IPython.core.display.HTML object>"
            ]
          },
          "metadata": {
            "tags": []
          }
        },
        {
          "output_type": "stream",
          "text": [
            "Saving test_values_edited.csv to test_values_edited.csv\n"
          ],
          "name": "stdout"
        }
      ]
    },
    {
      "cell_type": "code",
      "metadata": {
        "id": "Jp2-Scsjgipe",
        "colab_type": "code",
        "colab": {
          "base_uri": "https://localhost:8080/",
          "height": 34
        },
        "outputId": "87382df4-9b08-4be2-d44c-db38f2dcae8a"
      },
      "source": [
        "raw_data = io.BytesIO(uploaded['train_values_excel.csv'])\n",
        "print (raw_data)"
      ],
      "execution_count": 5,
      "outputs": [
        {
          "output_type": "stream",
          "text": [
            "<_io.BytesIO object at 0x7f1cea4caba0>\n"
          ],
          "name": "stdout"
        }
      ]
    },
    {
      "cell_type": "code",
      "metadata": {
        "id": "rXhbMsKjg-wd",
        "colab_type": "code",
        "colab": {
          "base_uri": "https://localhost:8080/",
          "height": 528
        },
        "outputId": "cf2e76c7-8c63-4cba-f41b-f0db3a84b86a"
      },
      "source": [
        "import h2o\n",
        "from h2o.automl import H2OAutoML\n",
        "h2o.init()\n"
      ],
      "execution_count": 6,
      "outputs": [
        {
          "output_type": "stream",
          "text": [
            "Checking whether there is an H2O instance running at http://localhost:54321 ..... not found.\n",
            "Attempting to start a local H2O server...\n",
            "  Java Version: openjdk version \"11.0.3\" 2019-04-16; OpenJDK Runtime Environment (build 11.0.3+7-Ubuntu-1ubuntu218.04.1); OpenJDK 64-Bit Server VM (build 11.0.3+7-Ubuntu-1ubuntu218.04.1, mixed mode, sharing)\n",
            "  Starting server from /usr/local/lib/python3.6/dist-packages/h2o/backend/bin/h2o.jar\n",
            "  Ice root: /tmp/tmpuj110ocs\n",
            "  JVM stdout: /tmp/tmpuj110ocs/h2o_unknownUser_started_from_python.out\n",
            "  JVM stderr: /tmp/tmpuj110ocs/h2o_unknownUser_started_from_python.err\n",
            "  Server is running at http://127.0.0.1:54321\n",
            "Connecting to H2O server at http://127.0.0.1:54321 ... successful.\n"
          ],
          "name": "stdout"
        },
        {
          "output_type": "display_data",
          "data": {
            "text/html": [
              "<div style=\"overflow:auto\"><table style=\"width:50%\"><tr><td>H2O cluster uptime:</td>\n",
              "<td>02 secs</td></tr>\n",
              "<tr><td>H2O cluster timezone:</td>\n",
              "<td>Etc/UTC</td></tr>\n",
              "<tr><td>H2O data parsing timezone:</td>\n",
              "<td>UTC</td></tr>\n",
              "<tr><td>H2O cluster version:</td>\n",
              "<td>3.26.0.1</td></tr>\n",
              "<tr><td>H2O cluster version age:</td>\n",
              "<td>6 days </td></tr>\n",
              "<tr><td>H2O cluster name:</td>\n",
              "<td>H2O_from_python_unknownUser_2e74r3</td></tr>\n",
              "<tr><td>H2O cluster total nodes:</td>\n",
              "<td>1</td></tr>\n",
              "<tr><td>H2O cluster free memory:</td>\n",
              "<td>3 Gb</td></tr>\n",
              "<tr><td>H2O cluster total cores:</td>\n",
              "<td>2</td></tr>\n",
              "<tr><td>H2O cluster allowed cores:</td>\n",
              "<td>2</td></tr>\n",
              "<tr><td>H2O cluster status:</td>\n",
              "<td>accepting new members, healthy</td></tr>\n",
              "<tr><td>H2O connection url:</td>\n",
              "<td>http://127.0.0.1:54321</td></tr>\n",
              "<tr><td>H2O connection proxy:</td>\n",
              "<td>None</td></tr>\n",
              "<tr><td>H2O internal security:</td>\n",
              "<td>False</td></tr>\n",
              "<tr><td>H2O API Extensions:</td>\n",
              "<td>Amazon S3, XGBoost, Algos, AutoML, Core V3, Core V4</td></tr>\n",
              "<tr><td>Python version:</td>\n",
              "<td>3.6.8 final</td></tr></table></div>"
            ],
            "text/plain": [
              "--------------------------  ---------------------------------------------------\n",
              "H2O cluster uptime:         02 secs\n",
              "H2O cluster timezone:       Etc/UTC\n",
              "H2O data parsing timezone:  UTC\n",
              "H2O cluster version:        3.26.0.1\n",
              "H2O cluster version age:    6 days\n",
              "H2O cluster name:           H2O_from_python_unknownUser_2e74r3\n",
              "H2O cluster total nodes:    1\n",
              "H2O cluster free memory:    3 Gb\n",
              "H2O cluster total cores:    2\n",
              "H2O cluster allowed cores:  2\n",
              "H2O cluster status:         accepting new members, healthy\n",
              "H2O connection url:         http://127.0.0.1:54321\n",
              "H2O connection proxy:\n",
              "H2O internal security:      False\n",
              "H2O API Extensions:         Amazon S3, XGBoost, Algos, AutoML, Core V3, Core V4\n",
              "Python version:             3.6.8 final\n",
              "--------------------------  ---------------------------------------------------"
            ]
          },
          "metadata": {
            "tags": []
          }
        }
      ]
    },
    {
      "cell_type": "code",
      "metadata": {
        "id": "VajZEosXhB-S",
        "colab_type": "code",
        "colab": {
          "base_uri": "https://localhost:8080/",
          "height": 553
        },
        "outputId": "eec712e1-2c04-4dbf-ad8f-e5f9071bfc90"
      },
      "source": [
        "# h2o.connect()\n",
        "df = h2o.import_file('train_values_excel.csv')\n",
        "# import pandas as pd\n",
        "\n",
        "# pf = pd.read_csv(\"train_values_excel.csv\")\n",
        "# df = h2o.H2OFrame(pf)\n",
        "\n",
        "\n",
        "x = df.columns\n",
        "y = \"DamageGrade\"\n",
        "x.remove(y)\n",
        "df[y] = df[y].asfactor()\n",
        "print(df.describe())\n",
        "print(x)\n",
        "print(y)"
      ],
      "execution_count": 7,
      "outputs": [
        {
          "output_type": "stream",
          "text": [
            "Parse progress: |█████████████████████████████████████████████████████████| 100%\n",
            "Rows:260601\n",
            "Cols:39\n",
            "\n",
            "\n"
          ],
          "name": "stdout"
        },
        {
          "output_type": "display_data",
          "data": {
            "text/html": [
              "<table>\n",
              "<thead>\n",
              "<tr><th>       </th><th>Age               </th><th>AreaPercentage   </th><th>CountFamilies     </th><th>CountFloorsPreEq  </th><th>FoundationType  </th><th>GeoLevel1Id       </th><th>GeoLevel2Id       </th><th>GeoLevel3Id      </th><th>GroundFloorType  </th><th>HasSecondaryUse    </th><th>HasSecondaryUseAgriculture  </th><th>HasSecondaryUseGovOffice  </th><th>HasSecondaryUseHealthPost  </th><th>HasSecondaryUseHotel  </th><th>HasSecondaryUseIndustry  </th><th>HasSecondaryUseInstitution  </th><th>HasSecondaryUseOther  </th><th>HasSecondaryUseRental  </th><th>HasSecondaryUseSchool  </th><th>HasSecondaryUseUsePolice  </th><th>HasSuperstructureAdobeMud  </th><th>HasSuperstructureBamboo  </th><th>HasSuperstructureCementMortarBrick  </th><th>HasSuperstructureCementMortarStone  </th><th>HasSuperstructureMudMortarBrick  </th><th>HasSuperstructureMudMortarStone  </th><th>HasSuperstructureOther  </th><th>HasSuperstructureRcEngineered  </th><th>HasSuperstructureRcNonEngineered  </th><th>HasSuperstructureStoneFlag  </th><th>HasSuperstructureTimber  </th><th>HeightPercentage  </th><th>LandSurfaceCondition  </th><th>LegalOwnershipStatus  </th><th>OtherFloorType  </th><th>PlanConfiguration  </th><th>Position  </th><th>RoofType  </th><th>DamageGrade  </th></tr>\n",
              "</thead>\n",
              "<tbody>\n",
              "<tr><td>type   </td><td>int               </td><td>int              </td><td>int               </td><td>int               </td><td>enum            </td><td>int               </td><td>int               </td><td>int              </td><td>enum             </td><td>int                </td><td>int                         </td><td>int                       </td><td>int                        </td><td>int                   </td><td>int                      </td><td>int                         </td><td>int                   </td><td>int                    </td><td>int                    </td><td>int                       </td><td>int                        </td><td>int                      </td><td>int                                 </td><td>int                                 </td><td>int                              </td><td>int                              </td><td>int                     </td><td>int                            </td><td>int                               </td><td>int                         </td><td>int                      </td><td>int               </td><td>enum                  </td><td>enum                  </td><td>enum            </td><td>enum               </td><td>enum      </td><td>enum      </td><td>enum         </td></tr>\n",
              "<tr><td>mins   </td><td>0.0               </td><td>1.0              </td><td>0.0               </td><td>1.0               </td><td>                </td><td>0.0               </td><td>0.0               </td><td>0.0              </td><td>                 </td><td>0.0                </td><td>0.0                         </td><td>0.0                       </td><td>0.0                        </td><td>0.0                   </td><td>0.0                      </td><td>0.0                         </td><td>0.0                   </td><td>0.0                    </td><td>0.0                    </td><td>0.0                       </td><td>0.0                        </td><td>0.0                      </td><td>0.0                                 </td><td>0.0                                 </td><td>0.0                              </td><td>0.0                              </td><td>0.0                     </td><td>0.0                            </td><td>0.0                               </td><td>0.0                         </td><td>0.0                      </td><td>2.0               </td><td>                      </td><td>                      </td><td>                </td><td>                   </td><td>          </td><td>          </td><td>             </td></tr>\n",
              "<tr><td>mean   </td><td>26.535028645323653</td><td>8.018050583075258</td><td>0.9839486417933935</td><td>2.1297232167182782</td><td>                </td><td>13.900353413839525</td><td>701.0746850549307 </td><td>6257.876147827511</td><td>                 </td><td>0.11187984696912137</td><td>0.06437811059819418         </td><td>0.00014581678504687243    </td><td>0.00018802690703412496     </td><td>0.03362611808857219   </td><td>0.0010706021849494053    </td><td>0.0009401345351706249       </td><td>0.005118936611908626  </td><td>0.008100506137735466   </td><td>0.0003607046788001581  </td><td>8.825752779152804e-05     </td><td>0.08864509345704737        </td><td>0.08501118568232663      </td><td>0.07526832207090534                 </td><td>0.0182347726984931                  </td><td>0.06815399787414476              </td><td>0.7619349119918957               </td><td>0.014984593305474653    </td><td>0.015859494015755888           </td><td>0.042590013085137816              </td><td>0.03433217831090441         </td><td>0.2549875096411756       </td><td>5.434365178951725 </td><td>                      </td><td>                      </td><td>                </td><td>                   </td><td>          </td><td>          </td><td>             </td></tr>\n",
              "<tr><td>maxs   </td><td>995.0             </td><td>100.0            </td><td>9.0               </td><td>9.0               </td><td>                </td><td>30.0              </td><td>1427.0            </td><td>12567.0          </td><td>                 </td><td>1.0                </td><td>1.0                         </td><td>1.0                       </td><td>1.0                        </td><td>1.0                   </td><td>1.0                      </td><td>1.0                         </td><td>1.0                   </td><td>1.0                    </td><td>1.0                    </td><td>1.0                       </td><td>1.0                        </td><td>1.0                      </td><td>1.0                                 </td><td>1.0                                 </td><td>1.0                              </td><td>1.0                              </td><td>1.0                     </td><td>1.0                            </td><td>1.0                               </td><td>1.0                         </td><td>1.0                      </td><td>32.0              </td><td>                      </td><td>                      </td><td>                </td><td>                   </td><td>          </td><td>          </td><td>             </td></tr>\n",
              "<tr><td>sigma  </td><td>73.56593652272699 </td><td>4.392230935895036</td><td>0.4183889778596046</td><td>0.7276645452862875</td><td>                </td><td>8.03361662491885  </td><td>412.71073356363877</td><td>3646.3696446841  </td><td>                 </td><td>0.31521917469565647</td><td>0.24542575375903233         </td><td>0.012074604837137196      </td><td>0.0137110274704731         </td><td>0.18026515738052468   </td><td>0.03270260080991909      </td><td>0.030647255772934673        </td><td>0.0713635245921135    </td><td>0.0896377084173382     </td><td>0.018988837630753628   </td><td>0.009394151214500896      </td><td>0.2842313333667077         </td><td>0.2788988749936635       </td><td>0.26382431436665                    </td><td>0.13379960560280324                 </td><td>0.2520104643681007               </td><td>0.42589998582739036              </td><td>0.1214912009475696      </td><td>0.12493210299103429            </td><td>0.20193132580317877               </td><td>0.18208131991814133         </td><td>0.4358550315592004       </td><td>1.9184182207481009</td><td>                      </td><td>                      </td><td>                </td><td>                   </td><td>          </td><td>          </td><td>             </td></tr>\n",
              "<tr><td>zeros  </td><td>26041             </td><td>0                </td><td>20862             </td><td>0                 </td><td>                </td><td>4011              </td><td>38                </td><td>2                </td><td>                 </td><td>231445             </td><td>243824                      </td><td>260563                    </td><td>260552                     </td><td>251838                </td><td>260322                   </td><td>260356                      </td><td>259267                </td><td>258490                 </td><td>260507                 </td><td>260578                    </td><td>237500                     </td><td>238447                   </td><td>240986                              </td><td>255849                              </td><td>242840                           </td><td>62040                            </td><td>256696                  </td><td>256468                         </td><td>249502                            </td><td>251654                      </td><td>194151                   </td><td>0                 </td><td>                      </td><td>                      </td><td>                </td><td>                   </td><td>          </td><td>          </td><td>             </td></tr>\n",
              "<tr><td>missing</td><td>0                 </td><td>0                </td><td>0                 </td><td>0                 </td><td>0               </td><td>0                 </td><td>0                 </td><td>0                </td><td>0                </td><td>0                  </td><td>0                           </td><td>0                         </td><td>0                          </td><td>0                     </td><td>0                        </td><td>0                           </td><td>0                     </td><td>0                      </td><td>0                      </td><td>0                         </td><td>0                          </td><td>0                        </td><td>0                                   </td><td>0                                   </td><td>0                                </td><td>0                                </td><td>0                       </td><td>0                              </td><td>0                                 </td><td>0                           </td><td>0                        </td><td>0                 </td><td>0                     </td><td>0                     </td><td>0               </td><td>0                  </td><td>0         </td><td>0         </td><td>0            </td></tr>\n",
              "<tr><td>0      </td><td>30.0              </td><td>4.0              </td><td>1.0               </td><td>2.0               </td><td>r               </td><td>4.0               </td><td>741.0             </td><td>3542.0           </td><td>f                </td><td>0.0                </td><td>0.0                         </td><td>0.0                       </td><td>0.0                        </td><td>0.0                   </td><td>0.0                      </td><td>0.0                         </td><td>0.0                   </td><td>0.0                    </td><td>0.0                    </td><td>0.0                       </td><td>0.0                        </td><td>0.0                      </td><td>0.0                                 </td><td>0.0                                 </td><td>0.0                              </td><td>1.0                              </td><td>0.0                     </td><td>0.0                            </td><td>0.0                               </td><td>0.0                         </td><td>1.0                      </td><td>5.0               </td><td>t                     </td><td>v                     </td><td>q               </td><td>d                  </td><td>t         </td><td>q         </td><td>2            </td></tr>\n",
              "<tr><td>1      </td><td>30.0              </td><td>8.0              </td><td>1.0               </td><td>3.0               </td><td>r               </td><td>27.0              </td><td>422.0             </td><td>9497.0           </td><td>f                </td><td>0.0                </td><td>0.0                         </td><td>0.0                       </td><td>0.0                        </td><td>0.0                   </td><td>0.0                      </td><td>0.0                         </td><td>0.0                   </td><td>0.0                    </td><td>0.0                    </td><td>0.0                       </td><td>1.0                        </td><td>0.0                      </td><td>0.0                                 </td><td>0.0                                 </td><td>1.0                              </td><td>0.0                              </td><td>0.0                     </td><td>0.0                            </td><td>0.0                               </td><td>0.0                         </td><td>0.0                      </td><td>5.0               </td><td>t                     </td><td>v                     </td><td>x               </td><td>d                  </td><td>t         </td><td>n         </td><td>3            </td></tr>\n",
              "<tr><td>2      </td><td>40.0              </td><td>12.0             </td><td>1.0               </td><td>2.0               </td><td>r               </td><td>9.0               </td><td>210.0             </td><td>11077.0          </td><td>v                </td><td>1.0                </td><td>0.0                         </td><td>0.0                       </td><td>0.0                        </td><td>1.0                   </td><td>0.0                      </td><td>0.0                         </td><td>0.0                   </td><td>0.0                    </td><td>0.0                    </td><td>0.0                       </td><td>1.0                        </td><td>0.0                      </td><td>1.0                                 </td><td>0.0                                 </td><td>1.0                              </td><td>1.0                              </td><td>0.0                     </td><td>0.0                            </td><td>0.0                               </td><td>1.0                         </td><td>1.0                      </td><td>7.0               </td><td>t                     </td><td>v                     </td><td>q               </td><td>d                  </td><td>t         </td><td>q         </td><td>2            </td></tr>\n",
              "<tr><td>3      </td><td>35.0              </td><td>10.0             </td><td>1.0               </td><td>2.0               </td><td>u               </td><td>27.0              </td><td>181.0             </td><td>5637.0           </td><td>v                </td><td>0.0                </td><td>0.0                         </td><td>0.0                       </td><td>0.0                        </td><td>0.0                   </td><td>0.0                      </td><td>0.0                         </td><td>0.0                   </td><td>0.0                    </td><td>0.0                    </td><td>0.0                       </td><td>0.0                        </td><td>0.0                      </td><td>1.0                                 </td><td>0.0                                 </td><td>0.0                              </td><td>0.0                              </td><td>0.0                     </td><td>0.0                            </td><td>0.0                               </td><td>0.0                         </td><td>0.0                      </td><td>5.0               </td><td>t                     </td><td>v                     </td><td>s               </td><td>d                  </td><td>s         </td><td>x         </td><td>3            </td></tr>\n",
              "<tr><td>4      </td><td>5.0               </td><td>7.0              </td><td>1.0               </td><td>2.0               </td><td>r               </td><td>10.0              </td><td>735.0             </td><td>6871.0           </td><td>f                </td><td>0.0                </td><td>0.0                         </td><td>0.0                       </td><td>0.0                        </td><td>0.0                   </td><td>0.0                      </td><td>0.0                         </td><td>0.0                   </td><td>0.0                    </td><td>0.0                    </td><td>0.0                       </td><td>0.0                        </td><td>0.0                      </td><td>0.0                                 </td><td>0.0                                 </td><td>0.0                              </td><td>1.0                              </td><td>0.0                     </td><td>0.0                            </td><td>0.0                               </td><td>0.0                         </td><td>0.0                      </td><td>4.0               </td><td>t                     </td><td>v                     </td><td>q               </td><td>d                  </td><td>t         </td><td>n         </td><td>3            </td></tr>\n",
              "<tr><td>5      </td><td>5.0               </td><td>3.0              </td><td>1.0               </td><td>2.0               </td><td>r               </td><td>13.0              </td><td>239.0             </td><td>1995.0           </td><td>f                </td><td>0.0                </td><td>0.0                         </td><td>0.0                       </td><td>0.0                        </td><td>0.0                   </td><td>0.0                      </td><td>0.0                         </td><td>0.0                   </td><td>0.0                    </td><td>0.0                    </td><td>0.0                       </td><td>0.0                        </td><td>0.0                      </td><td>0.0                                 </td><td>0.0                                 </td><td>0.0                              </td><td>1.0                              </td><td>0.0                     </td><td>0.0                            </td><td>0.0                               </td><td>1.0                         </td><td>0.0                      </td><td>5.0               </td><td>t                     </td><td>v                     </td><td>q               </td><td>d                  </td><td>s         </td><td>q         </td><td>3            </td></tr>\n",
              "<tr><td>6      </td><td>15.0              </td><td>6.0              </td><td>0.0               </td><td>1.0               </td><td>r               </td><td>13.0              </td><td>1211.0            </td><td>9827.0           </td><td>x                </td><td>0.0                </td><td>0.0                         </td><td>0.0                       </td><td>0.0                        </td><td>0.0                   </td><td>0.0                      </td><td>0.0                         </td><td>0.0                   </td><td>0.0                    </td><td>0.0                    </td><td>0.0                       </td><td>0.0                        </td><td>1.0                      </td><td>0.0                                 </td><td>0.0                                 </td><td>0.0                              </td><td>1.0                              </td><td>0.0                     </td><td>0.0                            </td><td>0.0                               </td><td>0.0                         </td><td>0.0                      </td><td>2.0               </td><td>n                     </td><td>v                     </td><td>j               </td><td>d                  </td><td>t         </td><td>n         </td><td>2            </td></tr>\n",
              "<tr><td>7      </td><td>5.0               </td><td>9.0              </td><td>1.0               </td><td>4.0               </td><td>i               </td><td>6.0               </td><td>460.0             </td><td>564.0            </td><td>v                </td><td>0.0                </td><td>0.0                         </td><td>0.0                       </td><td>0.0                        </td><td>0.0                   </td><td>0.0                      </td><td>0.0                         </td><td>0.0                   </td><td>0.0                    </td><td>0.0                    </td><td>0.0                       </td><td>0.0                        </td><td>0.0                      </td><td>0.0                                 </td><td>0.0                                 </td><td>0.0                              </td><td>0.0                              </td><td>0.0                     </td><td>0.0                            </td><td>1.0                               </td><td>0.0                         </td><td>0.0                      </td><td>12.0              </td><td>n                     </td><td>v                     </td><td>s               </td><td>d                  </td><td>s         </td><td>q         </td><td>1            </td></tr>\n",
              "<tr><td>8      </td><td>20.0              </td><td>5.0              </td><td>1.0               </td><td>2.0               </td><td>r               </td><td>0.0               </td><td>676.0             </td><td>4601.0           </td><td>f                </td><td>0.0                </td><td>0.0                         </td><td>0.0                       </td><td>0.0                        </td><td>0.0                   </td><td>0.0                      </td><td>0.0                         </td><td>0.0                   </td><td>0.0                    </td><td>0.0                    </td><td>0.0                       </td><td>1.0                        </td><td>1.0                      </td><td>0.0                                 </td><td>0.0                                 </td><td>1.0                              </td><td>1.0                              </td><td>0.0                     </td><td>0.0                            </td><td>0.0                               </td><td>0.0                         </td><td>1.0                      </td><td>5.0               </td><td>t                     </td><td>v                     </td><td>q               </td><td>d                  </td><td>s         </td><td>n         </td><td>2            </td></tr>\n",
              "<tr><td>9      </td><td>0.0               </td><td>13.0             </td><td>1.0               </td><td>2.0               </td><td>r               </td><td>7.0               </td><td>1265.0            </td><td>9903.0           </td><td>f                </td><td>0.0                </td><td>0.0                         </td><td>0.0                       </td><td>0.0                        </td><td>0.0                   </td><td>0.0                      </td><td>0.0                         </td><td>0.0                   </td><td>0.0                    </td><td>0.0                    </td><td>0.0                       </td><td>0.0                        </td><td>0.0                      </td><td>0.0                                 </td><td>0.0                                 </td><td>0.0                              </td><td>1.0                              </td><td>0.0                     </td><td>0.0                            </td><td>0.0                               </td><td>0.0                         </td><td>0.0                      </td><td>8.0               </td><td>t                     </td><td>v                     </td><td>q               </td><td>d                  </td><td>s         </td><td>n         </td><td>3            </td></tr>\n",
              "</tbody>\n",
              "</table>"
            ]
          },
          "metadata": {
            "tags": []
          }
        },
        {
          "output_type": "stream",
          "text": [
            "None\n",
            "['Age', 'AreaPercentage', 'CountFamilies', 'CountFloorsPreEq', 'FoundationType', 'GeoLevel1Id', 'GeoLevel2Id', 'GeoLevel3Id', 'GroundFloorType', 'HasSecondaryUse', 'HasSecondaryUseAgriculture', 'HasSecondaryUseGovOffice', 'HasSecondaryUseHealthPost', 'HasSecondaryUseHotel', 'HasSecondaryUseIndustry', 'HasSecondaryUseInstitution', 'HasSecondaryUseOther', 'HasSecondaryUseRental', 'HasSecondaryUseSchool', 'HasSecondaryUseUsePolice', 'HasSuperstructureAdobeMud', 'HasSuperstructureBamboo', 'HasSuperstructureCementMortarBrick', 'HasSuperstructureCementMortarStone', 'HasSuperstructureMudMortarBrick', 'HasSuperstructureMudMortarStone', 'HasSuperstructureOther', 'HasSuperstructureRcEngineered', 'HasSuperstructureRcNonEngineered', 'HasSuperstructureStoneFlag', 'HasSuperstructureTimber', 'HeightPercentage', 'LandSurfaceCondition', 'LegalOwnershipStatus', 'OtherFloorType', 'PlanConfiguration', 'Position', 'RoofType']\n",
            "DamageGrade\n"
          ],
          "name": "stdout"
        }
      ]
    },
    {
      "cell_type": "code",
      "metadata": {
        "id": "pTlkMoyHhMFz",
        "colab_type": "code",
        "colab": {
          "base_uri": "https://localhost:8080/",
          "height": 34
        },
        "outputId": "a569d598-5250-430b-db21-c314792be77d"
      },
      "source": [
        "aml = H2OAutoML(max_models=1, seed=1,max_runtime_secs=14400)\n",
        "aml.train(x=x, y=y, training_frame=df)"
      ],
      "execution_count": 0,
      "outputs": [
        {
          "output_type": "stream",
          "text": [
            "AutoML progress: |████"
          ],
          "name": "stdout"
        }
      ]
    },
    {
      "cell_type": "code",
      "metadata": {
        "id": "9O1-f77BhM7O",
        "colab_type": "code",
        "colab": {}
      },
      "source": [
        "lb = aml.leaderboard\n",
        "print (lb.head(rows=lb.nrows))\n",
        "\n",
        "print(lb)"
      ],
      "execution_count": 0,
      "outputs": []
    },
    {
      "cell_type": "code",
      "metadata": {
        "id": "jDsLWWle0L92",
        "colab_type": "code",
        "colab": {}
      },
      "source": [
        "tf = h2o.import_file('test_values_edited.csv')\n",
        "# import pandas as pd\n",
        "aml.leader\n",
        "preds = aml.predict(tf)\n",
        "\n",
        "print(preds)\n"
      ],
      "execution_count": 0,
      "outputs": []
    },
    {
      "cell_type": "code",
      "metadata": {
        "id": "AEHyuiSz4K6G",
        "colab_type": "code",
        "colab": {}
      },
      "source": [
        "tf.to_csv('resp.csv', index=False)\n",
        "FileLinks('resp.csv')"
      ],
      "execution_count": 0,
      "outputs": []
    }
  ]
}